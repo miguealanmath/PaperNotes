{
 "cells": [
  {
   "cell_type": "markdown",
   "metadata": {},
   "source": [
    "**本文将从零开始实现一个RNN，并应用这个RNN模型来训练一个语言模型。**"
   ]
  },
  {
   "cell_type": "code",
   "execution_count": 1,
   "metadata": {
    "ExecuteTime": {
     "end_time": "2020-02-16T12:04:55.804460Z",
     "start_time": "2020-02-16T12:04:55.088999Z"
    }
   },
   "outputs": [],
   "source": [
    "import time\n",
    "import math\n",
    "import numpy as np\n",
    "import torch\n",
    "from torch import nn, optim\n",
    "import torch.nn.functional as F\n",
    "\n",
    "device = torch.device('cuda' if torch.cuda.is_available() else 'cpu')\n"
   ]
  },
  {
   "cell_type": "markdown",
   "metadata": {},
   "source": [
    "`jaychou_lyrics.txt`文件中包含了周杰伦从第一张专辑《Jay》到第十张专辑《跨时代》中的所有歌词，我们将使用这个数据集来训练RNN语言模型。"
   ]
  },
  {
   "cell_type": "code",
   "execution_count": 17,
   "metadata": {
    "ExecuteTime": {
     "end_time": "2020-02-16T12:27:21.865146Z",
     "start_time": "2020-02-16T12:27:21.830167Z"
    }
   },
   "outputs": [
    {
     "name": "stdout",
     "output_type": "stream",
     "text": [
      "[('释', 0), ('亮', 1), ('尸', 2), ('究', 3), ('常', 4), ('酱', 5), ('珍', 6), ('久', 7), ('样', 8), ('树', 9)]\n"
     ]
    }
   ],
   "source": [
    "def load_data_jay_lyrics():\n",
    "    \"\"\"加载周杰伦歌词数据集\"\"\"\n",
    "    import zipfile\n",
    "    with zipfile.ZipFile('./datasets/jaychou_lyrics.txt.zip') as zin:\n",
    "        with zin.open('jaychou_lyrics.txt') as f:\n",
    "            corpus_chars = f.read().decode('utf-8')\n",
    "            \n",
    "    ### 数据预处理\n",
    "    corpus_chars = corpus_chars.replace('\\n', ' ').replace('\\r', ' ')\n",
    "    corpus_chars = corpus_chars[0:30000]       ## 取前30000个字作为训练数据。\n",
    "    idx_to_char = list(set(corpus_chars))\n",
    "    char_to_idx = dict([(char, i) for i, char in enumerate(idx_to_char)])\n",
    "    vocab_size = len(char_to_idx)\n",
    "    corpus_indices = [char_to_idx[char] for char in corpus_chars]\n",
    "    \n",
    "    return corpus_indices, char_to_idx, idx_to_char, vocab_size\n",
    "\n",
    "(corpus_indices, char_to_idx, idx_to_char, vocab_size) = load_data_jay_lyrics()   \n",
    "print(list(char_to_idx.items())[:10])"
   ]
  },
  {
   "cell_type": "code",
   "execution_count": 20,
   "metadata": {
    "ExecuteTime": {
     "end_time": "2020-02-17T05:50:02.536244Z",
     "start_time": "2020-02-17T05:50:02.521613Z"
    }
   },
   "outputs": [
    {
     "data": {
      "text/plain": [
       "tensor([[1., 0., 0.,  ..., 0., 0., 0.],\n",
       "        [0., 0., 1.,  ..., 0., 0., 0.]])"
      ]
     },
     "execution_count": 20,
     "metadata": {},
     "output_type": "execute_result"
    }
   ],
   "source": [
    "def one_hot(x, n_class, dtype=torch.float32):\n",
    "    x = x.long()\n",
    "    result = torch.zeros(x.shape[0], n_class, dtype=dtype, device = x.device)\n",
    "    \n",
    "    result.scatter_(1, x.view(-1, 1), 1)\n",
    "    return result\n",
    "\n",
    "x = torch.tensor([0,2])\n",
    "one_hot(x, vocab_size)"
   ]
  },
  {
   "cell_type": "code",
   "execution_count": 22,
   "metadata": {
    "ExecuteTime": {
     "end_time": "2020-02-17T05:50:07.285983Z",
     "start_time": "2020-02-17T05:50:07.279776Z"
    }
   },
   "outputs": [
    {
     "name": "stdout",
     "output_type": "stream",
     "text": [
      "5 torch.Size([2, 1783])\n"
     ]
    }
   ],
   "source": [
    "# 将时间步拆开，将每个时间步中的batch_size大小的列向量进行one-hot编码。\n",
    "def to_onehot(X, n_class):  \n",
    "    # X shape: (batch, seq_len), output: seq_len elements of (batch, n_class)\n",
    "    return [one_hot(X[:, i], n_class) for i in range(X.shape[1])]\n",
    "\n",
    "X = torch.arange(10).view(2, 5)\n",
    "inputs = to_onehot(X, vocab_size)\n",
    "print(len(inputs), inputs[0].shape)"
   ]
  },
  {
   "cell_type": "code",
   "execution_count": null,
   "metadata": {
    "ExecuteTime": {
     "end_time": "2020-02-16T12:27:10.732004Z",
     "start_time": "2020-02-16T12:27:10.726744Z"
    }
   },
   "outputs": [],
   "source": []
  },
  {
   "cell_type": "code",
   "execution_count": 29,
   "metadata": {
    "ExecuteTime": {
     "end_time": "2020-02-16T05:08:21.991512Z",
     "start_time": "2020-02-16T05:08:21.979293Z"
    }
   },
   "outputs": [
    {
     "name": "stdout",
     "output_type": "stream",
     "text": [
      "will use cuda\n"
     ]
    }
   ],
   "source": [
    "###初始化模型\n",
    "num_inputs, num_hiddens, num_outputs = vocab_size, 256, vocab_size\n",
    "print('will use', device)\n",
    "\n",
    "def get_params():\n",
    "    def _one(shape):\n",
    "        ts = torch.tensor(np.random.normal(0, 0.01, size=shape), device=device, dtype=torch.float32)\n",
    "        return torch.nn.Parameter(ts, requires_grad=True)\n",
    "\n",
    "    # 隐藏层参数\n",
    "    W_xh = _one((num_inputs, num_hiddens))\n",
    "    W_hh = _one((num_hiddens, num_hiddens))\n",
    "    b_h = torch.nn.Parameter(torch.zeros(num_hiddens, device=device, requires_grad=True))\n",
    "    # 输出层参数\n",
    "    W_hq = _one((num_hiddens, num_outputs))\n",
    "    b_q = torch.nn.Parameter(torch.zeros(num_outputs, device=device, requires_grad=True))\n",
    "    return nn.ParameterList([W_xh, W_hh, b_h, W_hq, b_q])\n"
   ]
  },
  {
   "cell_type": "code",
   "execution_count": 30,
   "metadata": {
    "ExecuteTime": {
     "end_time": "2020-02-16T05:40:19.387334Z",
     "start_time": "2020-02-16T05:40:19.383159Z"
    }
   },
   "outputs": [],
   "source": [
    "####返回初始化的隐藏状态\n",
    "def init_rnn_state(batch_size, num_hiddens, device):\n",
    "    return (torch.zeros( (batch_size, num_hiddens), device = device ), )\n"
   ]
  },
  {
   "cell_type": "code",
   "execution_count": 31,
   "metadata": {
    "ExecuteTime": {
     "end_time": "2020-02-16T05:43:52.660870Z",
     "start_time": "2020-02-16T05:43:52.653497Z"
    }
   },
   "outputs": [],
   "source": [
    "###定义模型\n",
    "def rnn(inputs, state, params):\n",
    "    # inputs和outputs皆为num_steps个形状为(batch_size, vocab_size)的矩阵\n",
    "    W_xh, W_hh, b_h, W_hq, b_q = params\n",
    "    H, = state\n",
    "    outputs = []\n",
    "    for X in inputs:\n",
    "        H = torch.tanh(torch.matmul(X, W_xh) + torch.matmul(H,W_hh) + b_h)\n",
    "        Y = torch.matmul(H,W_hq) + b_q\n",
    "        outputs.append(Y)\n",
    "    return outputs, (H,)"
   ]
  },
  {
   "cell_type": "code",
   "execution_count": 32,
   "metadata": {
    "ExecuteTime": {
     "end_time": "2020-02-16T05:56:29.390602Z",
     "start_time": "2020-02-16T05:56:22.848757Z"
    }
   },
   "outputs": [
    {
     "name": "stdout",
     "output_type": "stream",
     "text": [
      "5 torch.Size([2, 2582]) torch.Size([2, 256])\n"
     ]
    }
   ],
   "source": [
    "state = init_rnn_state(X.shape[0], num_hiddens, device)\n",
    "inputs = to_onehot(X.to(device), vocab_size)\n",
    "params = get_params()\n",
    "outputs, state_new = rnn(inputs, state, params)\n",
    "print(len(outputs), outputs[0].shape, state_new[0].shape) \n"
   ]
  },
  {
   "cell_type": "code",
   "execution_count": 33,
   "metadata": {
    "ExecuteTime": {
     "end_time": "2020-02-16T06:00:39.605435Z",
     "start_time": "2020-02-16T06:00:39.595451Z"
    }
   },
   "outputs": [],
   "source": [
    "### 预测函数\n",
    "def predict_rnn(prefix, num_chars, rnn, params, init_rnn_state,\n",
    "                num_hiddens, vocab_size, device, idx_to_char, char_to_idx):\n",
    "    \n",
    "    ###初始化隐藏状态\n",
    "    state = init_rnn_state(1, num_hiddens, device)\n",
    "    \n",
    "    output = [char_to_idx[prefix[0]]]\n",
    "    \n",
    "    for t in range(num_chars + len(prefix) - 1):\n",
    "        # 将上一时间步的输出作为当前时间步的输入\n",
    "        X = to_onehot(torch.tensor([[output[-1]]], device=device), vocab_size)\n",
    "        \n",
    "        # 计算输出和更新隐藏状态\n",
    "        (Y, state) = rnn(X, state, params)\n",
    "        # 下一个时间步的输入是prefix里的字符或者当前的最佳预测字符\n",
    "        if t < len(prefix) - 1:\n",
    "            output.append(char_to_idx[prefix[t + 1]])\n",
    "        else:\n",
    "            output.append(int(Y[0].argmax(dim=1).item()))\n",
    "    return ''.join([idx_to_char[i] for i in output])\n"
   ]
  },
  {
   "cell_type": "code",
   "execution_count": 34,
   "metadata": {
    "ExecuteTime": {
     "end_time": "2020-02-16T06:02:46.869325Z",
     "start_time": "2020-02-16T06:02:46.842314Z"
    }
   },
   "outputs": [
    {
     "data": {
      "text/plain": [
       "'分开嘴刮裡腔燃泰3番傀村'"
      ]
     },
     "execution_count": 34,
     "metadata": {},
     "output_type": "execute_result"
    }
   ],
   "source": [
    "###测试\n",
    "predict_rnn('分开', 10, rnn, params, init_rnn_state, num_hiddens, vocab_size,\n",
    "            device, idx_to_char, char_to_idx)\n"
   ]
  },
  {
   "cell_type": "code",
   "execution_count": 35,
   "metadata": {
    "ExecuteTime": {
     "end_time": "2020-02-16T06:07:16.373319Z",
     "start_time": "2020-02-16T06:07:16.367287Z"
    }
   },
   "outputs": [],
   "source": [
    "# 本函数已保存在d2lzh_pytorch包中方便以后使用\n",
    "def grad_clipping(params, theta, device):\n",
    "    norm = torch.tensor([0.0], device=device)\n",
    "    for param in params:\n",
    "        norm += (param.grad.data ** 2).sum()\n",
    "    norm = norm.sqrt().item()\n",
    "    if norm > theta:\n",
    "        for param in params:\n",
    "            param.grad.data *= (theta / norm)\n"
   ]
  },
  {
   "cell_type": "code",
   "execution_count": 41,
   "metadata": {
    "ExecuteTime": {
     "end_time": "2020-02-16T06:25:16.767300Z",
     "start_time": "2020-02-16T06:25:16.745467Z"
    }
   },
   "outputs": [],
   "source": [
    "###随机采样\n",
    "def data_iter_random(corpus_indexs, batch_size, steps, device=None):\n",
    "    # 减1是因为输出的索引x是相应输入的索引y加1\n",
    "    num_examples = len(corpus_indexs) - steps - 1\n",
    "    epoch_size = num_examples // batch_size\n",
    "    example_indexs = list(range(num_examples))\n",
    "    random.shuffle(example_indexs)\n",
    "    \n",
    "    ## # 返回从pos开始的长为steps的序列\n",
    "    def _data(pos):\n",
    "        return corpus_indexs[pos: pos + steps]\n",
    "    if device is None:\n",
    "        device = torch.device('cuda' if torch.cuda.is_available() else 'cpu')\n",
    "    \n",
    "    \n",
    "    for i in range(epoch_size):\n",
    "        ## 每次读取batch_size个随机样本\n",
    "        i = i * batch_size\n",
    "        batch_indexs = example_indexs[i: i + batch_size]\n",
    "        X = [_data(j) for j in batch_indexs]\n",
    "        Y = [_data(j + 1) for j in batch_indexs]\n",
    "        \n",
    "        yield torch.tensor(X, dtype = torch.float32, device = device),\\\n",
    "                torch.tensor(Y, dtype = torch.float32, device =device) \n",
    "        \n",
    "        \n",
    "# 相邻采样\n",
    "def data_iter_consecutive(corpus_indexs, batch_size, steps, device=None):  \n",
    "    if device is None:\n",
    "        device = torch.device('cuda' if torch.cuda.is_available() else 'cpu')\n",
    "        \n",
    "    corpus_indexs = torch.tensor(corpus_indexs, dtype=torch.float32, device=device)\n",
    "    \n",
    "    data_len = len(corpus_indexs) ## 29\n",
    "    batch_len = data_len // batch_size  ##if batch_size = 2\n",
    "    indexs = corpus_indexs[0: batch_size*batch_len].view(batch_size, batch_len)\n",
    "    epoch_size = (batch_len - 1) // steps\n",
    "    for i in range(epoch_size):\n",
    "        i = i * steps\n",
    "        X = indexs[:, i: i + steps]\n",
    "        Y = indexs[:, i + 1: i + steps + 1]\n",
    "        yield X, Y\n",
    "        \n",
    "## 定义优化函数\n",
    "def sgd(params, lr, batch_size):  # 本函数已保存在d2lzh_pytorch包中方便以后使用\n",
    "    for param in params:\n",
    "        param.data -= lr * param.grad / batch_size # 注意这里更改param时用的param.data\n"
   ]
  },
  {
   "cell_type": "code",
   "execution_count": 30,
   "metadata": {
    "ExecuteTime": {
     "end_time": "2020-02-17T07:15:47.627481Z",
     "start_time": "2020-02-17T07:15:47.620271Z"
    }
   },
   "outputs": [
    {
     "data": {
      "text/plain": [
       "torch.Size([2])"
      ]
     },
     "execution_count": 30,
     "metadata": {},
     "output_type": "execute_result"
    }
   ],
   "source": [
    "a = torch.ones((1,2)).view(-1)\n",
    "a.size()"
   ]
  },
  {
   "cell_type": "code",
   "execution_count": null,
   "metadata": {},
   "outputs": [],
   "source": []
  },
  {
   "cell_type": "code",
   "execution_count": 23,
   "metadata": {
    "ExecuteTime": {
     "end_time": "2020-02-17T05:57:09.369029Z",
     "start_time": "2020-02-17T05:57:09.344395Z"
    }
   },
   "outputs": [],
   "source": [
    "def train_and_predict_rnn(rnn, get_params, init_rnn_state, num_hiddens,\n",
    "                          vocab_size, device, corpus_indices, idx_to_char,\n",
    "                          char_to_idx, is_random_iter, num_epochs, num_steps,\n",
    "                          lr, clipping_theta, batch_size, pred_period,\n",
    "                           pred_len, prefixes):\n",
    "    ## 判断选择哪种采样方式\n",
    "    if is_random_iter:\n",
    "        data_iter_fn = data_iter_random\n",
    "    else:\n",
    "        data_iter_fn = data_iter_consecutive\n",
    "        \n",
    "    params = get_params()\n",
    "    loss = nn.CrossEntropyLoss()\n",
    "\n",
    "    ## 开始训练\n",
    "    for epoch in range(num_epochs):\n",
    "        state = (torch.zeros( (batch_size, num_hiddens), device = device ), ) ## 初始化隐藏状态\n",
    "        \n",
    "        ls_sum, n, start = 0, 0, time.time()\n",
    "        data_iter = data_iter_fn(corpus_indices, batch_size, num_steps, device)\n",
    "        \n",
    "        for X, Y in data_iter:\n",
    "            if is_random_iter:  # 如使用随机采样，在每个小批量更新前初始化隐藏状态\n",
    "                state = (torch.zeros( (batch_size, num_hiddens), device = device ), )\n",
    "            else:  \n",
    "                # 使用detach_函数从计算图分离隐藏状态, 防止梯度计算开销太大\n",
    "                for s in state:\n",
    "                    s.detach_()\n",
    "\n",
    "            inputs = to_onehot(X, vocab_size)  ## 将X转化为onehot的形式\n",
    "            \n",
    "            # outputs.size(): (num_steps, batch_size, vocan_size)\n",
    "            # state.size(): (batch_size, num_hiddens) \n",
    "            (outputs, state) = rnn(inputs, state, params)\n",
    "            \n",
    "            # outputs.size(): (num_steps * batch_size, vocab_size)\n",
    "            outputs = torch.cat(outputs, dim=0)\n",
    "            \n",
    "            # Y.size(): (batch_size, num_steps)\n",
    "            # y.size(): (num_steps * batch_size) 1-dimention tensor.\n",
    "            y = torch.transpose(Y, 0, 1).contiguous().view(-1)\n",
    "            \n",
    "            # 使用交叉熵损失计算平均分类误差\n",
    "            ls = loss(outputs, y.long())\n",
    "\n",
    "            # 梯度清0\n",
    "            if params[0].grad is not None:\n",
    "                for param in params:\n",
    "                    param.grad.data.zero_()\n",
    "            ls.backward()\n",
    "            grad_clipping(params, clipping_theta, device)  # 裁剪梯度\n",
    "            sgd(params, lr, 1)  \n",
    "            ls_sum += ls.item() * y.shape[0]\n",
    "            n += y.shape[0]\n",
    "\n",
    "        if (epoch + 1) % pred_period == 0:\n",
    "            print('epoch %d, perplexity %f, time %.2f sec' % (\n",
    "                epoch + 1, math.exp(ls_sum / n), time.time() - start))\n",
    "            for prefix in prefixes:\n",
    "                print(' -', predict_rnn(prefix, pred_len, rnn, params, init_rnn_state,\n",
    "                    num_hiddens, vocab_size, device, idx_to_char, char_to_idx))\n"
   ]
  },
  {
   "cell_type": "code",
   "execution_count": 43,
   "metadata": {
    "ExecuteTime": {
     "end_time": "2020-02-16T06:25:43.368897Z",
     "start_time": "2020-02-16T06:25:43.364541Z"
    }
   },
   "outputs": [],
   "source": [
    "num_epochs, num_steps, batch_size, lr, clipping_theta = 250, 35, 32, 1e2, 1e-2\n",
    "pred_period, pred_len, prefixes = 50, 50, ['分开', '不分开']\n"
   ]
  },
  {
   "cell_type": "code",
   "execution_count": 44,
   "metadata": {
    "ExecuteTime": {
     "end_time": "2020-02-16T06:33:52.132065Z",
     "start_time": "2020-02-16T06:25:44.104647Z"
    }
   },
   "outputs": [
    {
     "name": "stdout",
     "output_type": "stream",
     "text": [
      "epoch 50, perplexity 38.506133, time 1.91 sec\n",
      " - 分开了天空 不用麻烦了 不用麻烦了 不用麻烦 用世界的希望 我们你的眼手 我用你的爱写 我用你的美写 我\n",
      " - 不分开 我只以放 也在我 我却指 我没有一种称　 是什么的小道 在你的那里 在风村 你说的 娘我最 我不了\n",
      "epoch 100, perplexity 17.616453, time 2.08 sec\n",
      " - 分开始著 在我们乘半堡的天空 一点又重 我的感界 被不掉 让我用不来  你  功腐 豆夫  豆腐 豆夫 \n",
      " - 不分开 把爱的大味 我用无悔  永待回                                  \n",
      "epoch 150, perplexity 11.593994, time 1.92 sec\n",
      " - 分开始天 说我的眼泪 我也想够不微笑 爱为我不知再想 你说你会别不到 我的多溢　 象你的Bl 远圣中期着\n",
      " - 不分开 微笑的大象 你的声音在我们一个人 你知定风 都是你的好量 你说你的手尖在西元前 深埋在美索不达米亚\n",
      "epoch 200, perplexity 8.462342, time 1.84 sec\n",
      " - 分开始天 说伊的每牌 将我的空  回 的灵魂 你叫一起嗓   其他全部是垃圾 那多尾 你怎么 我说你豆回\n",
      " - 不分开 心来的大我全 雨呆的灵旧被 我在等你 也不需听  还的回忆 我手遇不见  不能就好自己 再象眼泪 \n",
      "epoch 250, perplexity 6.435160, time 1.90 sec\n",
      " - 分开始天 手伊的正分　 败坏跟风 蝠不会听 出一秒 不需要要我 这里一口太后 一点 外的速板 我们 不懂\n",
      " - 不分开 戴爱的大象 你在颊微是 我却在你不见 不用麻耳   用h 一直 我翻速一直称　 我也悄出情 将炮里\n"
     ]
    }
   ],
   "source": [
    "train_and_predict_rnn(rnn, get_params, init_rnn_state, num_hiddens,\n",
    "                      vocab_size, device, corpus_indices, idx_to_char,\n",
    "                      char_to_idx, False, num_epochs, num_steps, lr,\n",
    "                      clipping_theta, batch_size, pred_period, pred_len,\n",
    "                      prefixes)\n"
   ]
  },
  {
   "cell_type": "code",
   "execution_count": null,
   "metadata": {},
   "outputs": [],
   "source": []
  }
 ],
 "metadata": {
  "kernelspec": {
   "display_name": "ML3.6",
   "language": "python",
   "name": "ml3.6"
  },
  "language_info": {
   "codemirror_mode": {
    "name": "ipython",
    "version": 3
   },
   "file_extension": ".py",
   "mimetype": "text/x-python",
   "name": "python",
   "nbconvert_exporter": "python",
   "pygments_lexer": "ipython3",
   "version": "3.6.9"
  },
  "latex_envs": {
   "LaTeX_envs_menu_present": true,
   "autoclose": false,
   "autocomplete": true,
   "bibliofile": "biblio.bib",
   "cite_by": "apalike",
   "current_citInitial": 1,
   "eqLabelWithNumbers": true,
   "eqNumInitial": 1,
   "hotkeys": {
    "equation": "Ctrl-E",
    "itemize": "Ctrl-I"
   },
   "labels_anchors": false,
   "latex_user_defs": false,
   "report_style_numbering": false,
   "user_envs_cfg": false
  },
  "toc": {
   "base_numbering": 1,
   "nav_menu": {},
   "number_sections": true,
   "sideBar": true,
   "skip_h1_title": false,
   "title_cell": "Table of Contents",
   "title_sidebar": "Contents",
   "toc_cell": false,
   "toc_position": {},
   "toc_section_display": true,
   "toc_window_display": false
  },
  "varInspector": {
   "cols": {
    "lenName": 16,
    "lenType": 16,
    "lenVar": 40
   },
   "kernels_config": {
    "python": {
     "delete_cmd_postfix": "",
     "delete_cmd_prefix": "del ",
     "library": "var_list.py",
     "varRefreshCmd": "print(var_dic_list())"
    },
    "r": {
     "delete_cmd_postfix": ") ",
     "delete_cmd_prefix": "rm(",
     "library": "var_list.r",
     "varRefreshCmd": "cat(var_dic_list()) "
    }
   },
   "types_to_exclude": [
    "module",
    "function",
    "builtin_function_or_method",
    "instance",
    "_Feature"
   ],
   "window_display": false
  }
 },
 "nbformat": 4,
 "nbformat_minor": 2
}
