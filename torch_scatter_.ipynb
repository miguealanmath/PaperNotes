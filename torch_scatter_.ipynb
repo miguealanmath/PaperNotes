{
 "cells": [
  {
   "cell_type": "code",
   "execution_count": 45,
   "metadata": {
    "ExecuteTime": {
     "end_time": "2020-02-17T04:44:11.932653Z",
     "start_time": "2020-02-17T04:44:11.922731Z"
    }
   },
   "outputs": [
    {
     "data": {
      "text/plain": [
       "tensor([[0.9413, 0.8924, 0.7530, 0.9898, 0.6443],\n",
       "        [0.0000, 0.9476, 0.0000, 0.8874, 0.0000],\n",
       "        [0.6913, 0.0000, 0.1104, 0.0000, 0.0557]])"
      ]
     },
     "execution_count": 45,
     "metadata": {},
     "output_type": "execute_result"
    }
   ],
   "source": [
    "import torch\n",
    "\n",
    "x = torch.tensor([[0.9413, 0.9476, 0.1104, 0.9898, 0.6443],\n",
    "            [0.6913, 0.8924, 0.7530, 0.8874, 0.0557]])\n",
    "\n",
    "result = torch.zeros(3, 5)\n",
    "indices = torch.tensor([[0, 1, 2, 0, 0], \n",
    "                        [2, 0, 0, 1, 2]])\n",
    "result.scatter_(0, indices, x)"
   ]
  },
  {
   "cell_type": "markdown",
   "metadata": {},
   "source": [
    "#### dim = 0的情形:\n",
    "比如上例中，dim=0，所以根据这个规则来self[index[i][j]][j] = src[i][j]来确定替换规则。\n",
    "\n",
    "index中的值决定了src中的值在result中的放置位置。\n",
    "\n",
    "dim=0时，则将列固定起来，先看第0列： \n",
    "\n",
    "对于第0行，首先找到x的第0列第0行的值为0.9413，然后在用index[0][0]的值来找将要在result中放置的位置。\n",
    "\n",
    "在这个例子中，index[0][0]=0， 所以0.9413将放置在result[0][0]这个位置。\n",
    "\n",
    "对于result中的各项，他们的寻址过程如下：\n",
    "\n",
    "x[0][1] = 0.9476 -> indices[0][1]=1 -> result[ index = 1 ][1] = 0.9476\n",
    "\n",
    "x[1][3] = 0.8874 -> indices[1][3]=1 -> result[ index = 1 ][3] = 0.8874\n",
    "\n",
    "依此类推。\n",
    "\n",
    "#### 以下为dim = 1的情形:\n",
    "\n",
    "x[0][0] = 0.9413 -> indices[0][0]=0 -> result[0][index = 0] = 0.9413\n",
    "\n",
    "x[0][3] = 0.9898 -> indices[0][3]=0 -> result[0][index = 0] = 0.9898 ## 将上一步的值覆盖了\n",
    "\n",
    "x[0][4] = 0.6443 -> indices[0][4]=0 -> result[0][index = 0] = 0.6443 ## 再次将上一步的值覆盖了\n",
    "\n",
    "因此result[0][0]的值为0.6443."
   ]
  },
  {
   "cell_type": "code",
   "execution_count": 26,
   "metadata": {
    "ExecuteTime": {
     "end_time": "2020-02-17T04:21:05.879413Z",
     "start_time": "2020-02-17T04:21:05.871513Z"
    }
   },
   "outputs": [
    {
     "data": {
      "text/plain": [
       "tensor([[0.6443, 0.9476, 0.1104, 0.0000, 0.0000],\n",
       "        [0.7530, 0.8874, 0.0557, 0.0000, 0.0000],\n",
       "        [0.0000, 0.0000, 0.0000, 0.0000, 0.0000]])"
      ]
     },
     "execution_count": 26,
     "metadata": {},
     "output_type": "execute_result"
    }
   ],
   "source": [
    "result = torch.zeros(3, 5)\n",
    "indices = torch.tensor([[0, 1, 2, 0, 0], \n",
    "                        [2, 0, 0, 1, 2]])\n",
    "result.scatter_(1, indices, x)"
   ]
  },
  {
   "cell_type": "markdown",
   "metadata": {},
   "source": [
    "## 用于产生one hot编码的向量\n",
    "\n",
    "当没有`src`值时，则所有用于填充的值均为`value`值。\n",
    "\n",
    "需要注意的时候，这个时候`index.shape[dim]`必须与`result.shape[dim]`相等，否则会报错。"
   ]
  },
  {
   "cell_type": "code",
   "execution_count": 42,
   "metadata": {
    "ExecuteTime": {
     "end_time": "2020-02-17T04:43:09.725071Z",
     "start_time": "2020-02-17T04:43:09.715761Z"
    }
   },
   "outputs": [
    {
     "data": {
      "text/plain": [
       "tensor([[1., 1., 1., 0., 0.],\n",
       "        [1., 1., 1., 1., 0.],\n",
       "        [0., 1., 1., 1., 1.]])"
      ]
     },
     "execution_count": 42,
     "metadata": {},
     "output_type": "execute_result"
    }
   ],
   "source": [
    "result = torch.zeros(3, 5)\n",
    "indices = torch.tensor([[0, 1, 2, 0, 0], \n",
    "                        [2, 0, 3, 1, 2],\n",
    "                        [2, 1, 3, 1, 4]])\n",
    "result.scatter_(1, indices, value=1)"
   ]
  },
  {
   "cell_type": "markdown",
   "metadata": {},
   "source": [
    "例如 indices = [1,2,3,4,5]，将他转换为one-hot的形式."
   ]
  },
  {
   "cell_type": "code",
   "execution_count": 43,
   "metadata": {
    "ExecuteTime": {
     "end_time": "2020-02-17T04:43:26.714249Z",
     "start_time": "2020-02-17T04:43:26.705164Z"
    }
   },
   "outputs": [
    {
     "data": {
      "text/plain": [
       "tensor([[1., 0., 0., 0., 0.],\n",
       "        [0., 1., 0., 0., 0.],\n",
       "        [0., 0., 1., 0., 0.],\n",
       "        [0., 0., 0., 1., 0.],\n",
       "        [0., 0., 0., 0., 1.]])"
      ]
     },
     "execution_count": 43,
     "metadata": {},
     "output_type": "execute_result"
    }
   ],
   "source": [
    "indices = torch.tensor(list(range(5))).view(5,1)\n",
    "result = torch.zeros(5, 5)\n",
    "result.scatter_(1, indices, 1)"
   ]
  },
  {
   "cell_type": "code",
   "execution_count": null,
   "metadata": {},
   "outputs": [],
   "source": []
  }
 ],
 "metadata": {
  "kernelspec": {
   "display_name": "ML3.6",
   "language": "python",
   "name": "ml3.6"
  },
  "language_info": {
   "codemirror_mode": {
    "name": "ipython",
    "version": 3
   },
   "file_extension": ".py",
   "mimetype": "text/x-python",
   "name": "python",
   "nbconvert_exporter": "python",
   "pygments_lexer": "ipython3",
   "version": "3.6.9"
  },
  "latex_envs": {
   "LaTeX_envs_menu_present": true,
   "autoclose": false,
   "autocomplete": true,
   "bibliofile": "biblio.bib",
   "cite_by": "apalike",
   "current_citInitial": 1,
   "eqLabelWithNumbers": true,
   "eqNumInitial": 1,
   "hotkeys": {
    "equation": "Ctrl-E",
    "itemize": "Ctrl-I"
   },
   "labels_anchors": false,
   "latex_user_defs": false,
   "report_style_numbering": false,
   "user_envs_cfg": false
  },
  "toc": {
   "base_numbering": 1,
   "nav_menu": {},
   "number_sections": true,
   "sideBar": true,
   "skip_h1_title": false,
   "title_cell": "Table of Contents",
   "title_sidebar": "Contents",
   "toc_cell": false,
   "toc_position": {},
   "toc_section_display": true,
   "toc_window_display": false
  },
  "varInspector": {
   "cols": {
    "lenName": 16,
    "lenType": 16,
    "lenVar": 40
   },
   "kernels_config": {
    "python": {
     "delete_cmd_postfix": "",
     "delete_cmd_prefix": "del ",
     "library": "var_list.py",
     "varRefreshCmd": "print(var_dic_list())"
    },
    "r": {
     "delete_cmd_postfix": ") ",
     "delete_cmd_prefix": "rm(",
     "library": "var_list.r",
     "varRefreshCmd": "cat(var_dic_list()) "
    }
   },
   "types_to_exclude": [
    "module",
    "function",
    "builtin_function_or_method",
    "instance",
    "_Feature"
   ],
   "window_display": false
  }
 },
 "nbformat": 4,
 "nbformat_minor": 2
}
